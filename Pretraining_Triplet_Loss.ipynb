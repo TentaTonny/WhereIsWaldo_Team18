{
  "nbformat": 4,
  "nbformat_minor": 0,
  "metadata": {
    "colab": {
      "provenance": [],
      "gpuType": "T4",
      "include_colab_link": true
    },
    "kernelspec": {
      "name": "python3",
      "display_name": "Python 3"
    },
    "language_info": {
      "name": "python"
    },
    "accelerator": "GPU"
  },
  "cells": [
    {
      "cell_type": "markdown",
      "metadata": {
        "id": "view-in-github",
        "colab_type": "text"
      },
      "source": [
        "<a href=\"https://colab.research.google.com/github/TentaTonny/WhereIsWaldo_Team18/blob/main/Pretraining_Triplet_Loss.ipynb\" target=\"_parent\"><img src=\"https://colab.research.google.com/assets/colab-badge.svg\" alt=\"Open In Colab\"/></a>"
      ]
    },
    {
      "cell_type": "code",
      "source": [
        "import ssl\n",
        "ssl._create_default_https_context = ssl._create_unverified_context"
      ],
      "metadata": {
        "id": "Zm-5d64yxsmZ"
      },
      "execution_count": 129,
      "outputs": []
    },
    {
      "cell_type": "code",
      "source": [
        "from torchvision import datasets, transforms\n",
        "from torchvision.datasets import DatasetFolder, ImageFolder\n",
        "from torch.utils.data import DataLoader\n",
        "import matplotlib.pyplot as plt\n",
        "import matplotlib.image as img\n",
        "from PIL import Image\n",
        "import random\n",
        "import torch\n",
        "import torch.optim\n",
        "import torch.nn as nn\n",
        "import torch.nn.functional as F\n",
        "import numpy as np\n",
        "import torchvision\n",
        "from tqdm import tqdm\n",
        "import numpy as np\n",
        "device = torch.device(\"cuda\" if torch.cuda.is_available() else \"cpu\")   # use GPU if available"
      ],
      "metadata": {
        "id": "Lreuu26mMbci"
      },
      "execution_count": 130,
      "outputs": []
    },
    {
      "cell_type": "code",
      "execution_count": 131,
      "metadata": {
        "id": "HwsqJ62uv5W2",
        "colab": {
          "base_uri": "https://localhost:8080/"
        },
        "outputId": "bcef0a10-7a2d-41ef-9460-bdf528fef6c0"
      },
      "outputs": [
        {
          "output_type": "stream",
          "name": "stdout",
          "text": [
            "Drive already mounted at /content/gdrive; to attempt to forcibly remount, call drive.mount(\"/content/gdrive\", force_remount=True).\n"
          ]
        }
      ],
      "source": [
        "from google.colab import drive\n",
        "drive.mount('/content/gdrive')"
      ]
    },
    {
      "cell_type": "code",
      "execution_count": 133,
      "metadata": {
        "id": "8c7ea732"
      },
      "outputs": [],
      "source": [
        "class Patchify(nn.Module):\n",
        "\n",
        "    def __init__(self, img_size, patch_size, embed_dim):\n",
        "        super().__init__()\n",
        "        self.num_patches = (img_size // patch_size) * (img_size // patch_size)\n",
        "        self.img_size = img_size\n",
        "        self.patch_size = patch_size\n",
        "        self.embed_dim = embed_dim\n",
        "\n",
        "        self.proj = nn.Conv2d(in_channels = 3,\n",
        "                              out_channels = embed_dim,\n",
        "                              kernel_size = patch_size,\n",
        "                              stride = patch_size)\n",
        "\n",
        "    def forward(self, x):\n",
        "        B, C, H, W = x.shape\n",
        "        x = self.proj(x)   # (batch_size, dim, img_size // patch_size, img_size // patch_size)\n",
        "        # the input to the transformer should be of shape (batch_size, num_patches, embedding dim)\n",
        "         # (batch_size, dim, img_size // patch_size, img_size // patch_size) --> flattten --> (batch_size, dim, num_patches) --> tranpose --> (batch_size, num_patches, dim)\n",
        "        x = x.flatten(2).transpose(1,2)\n",
        "        return x"
      ]
    },
    {
      "cell_type": "code",
      "execution_count": 134,
      "metadata": {
        "id": "4a9b022f"
      },
      "outputs": [],
      "source": [
        "class FeedForward(nn.Module):\n",
        "    def __init__(self, dim, dropout = 0.):\n",
        "        super().__init__()\n",
        "\n",
        "        self.net = nn.Sequential(\n",
        "            nn.LayerNorm(dim),\n",
        "            nn.Linear(dim, dim * 4),\n",
        "            nn.ReLU(),\n",
        "            nn.Dropout(dropout),\n",
        "            nn.Linear(dim * 4, dim),\n",
        "            nn.Dropout(dropout)\n",
        "        )\n",
        "\n",
        "    def forward(self, x):\n",
        "        return self.net(x)"
      ]
    },
    {
      "cell_type": "code",
      "source": [
        "class MultiHeadAttention(nn.Module):\n",
        "\n",
        "    def __init__(self, dim, heads = 8, dropout = 0.):\n",
        "        super().__init__()\n",
        "        self.dim = dim\n",
        "        self.heads = heads\n",
        "\n",
        "        self.query = nn.Linear(dim, dim)\n",
        "        self.keys = nn.Linear(dim, dim)\n",
        "        self.values = nn.Linear(dim, dim)\n",
        "\n",
        "        self.norm = nn.LayerNorm(dim)\n",
        "\n",
        "        self.out_proj = nn.Linear(dim, dim)\n",
        "\n",
        "        self.dropout = nn.Dropout(dropout)\n",
        "\n",
        "    def forward(self, x):\n",
        "        # N is the total number of patches\n",
        "        B, N, C = x.shape\n",
        "\n",
        "        x = self.norm(x)         # (B, N, C)\n",
        "\n",
        "        query = self.query(x)    # (B, N, C)\n",
        "        key = self.keys(x)       # (B, N, C)\n",
        "        value = self.values(x)   # (B, N, C)\n",
        "\n",
        "        dim_head = C // self.heads\n",
        "\n",
        "        # Split (B,N,C) into (B, N, num_heads, dim_head) and permute heads which yields a shape of (B, num_heads, N, dim_head)\n",
        "        # each of the heads, should have (N, dim_head)\n",
        "        query = query.reshape(B, N, self.heads, dim_head).permute(0,2,1,3)\n",
        "        key = key.reshape(B, N, self.heads, dim_head).permute(0,2,1,3)\n",
        "        value = value.reshape(B, N, self.heads, dim_head).permute(0,2,1,3)\n",
        "\n",
        "        # (B, num_heads, N, dim_head) with (B, num_heads, N, dim_head) --> (B, num_heads, N, N)\n",
        "        attention_scores = torch.matmul(query, key.transpose(-1, -2))\n",
        "\n",
        "        scale = dim_head ** -0.5   # (1 / sqrt(dim_head))\n",
        "        attention_scores = attention_scores * scale\n",
        "        attention_scores = F.softmax(attention_scores, dim = -1) # (B, num_heads, N, N)\n",
        "        attention_scores = self.dropout(attention_scores)\n",
        "\n",
        "        # extract the values\n",
        "        # (B, num_heads, N, N) matmul (B, num_heads, N, dim_head) --> (B, num_heads, N, dim_head)\n",
        "        out = torch.matmul(attention_scores, value)\n",
        "\n",
        "        # (B, num_heads, N, dim_head) --> (B, N, num_heads, dim_head) --> (B, N, C)\n",
        "        out = out.permute(0,2,1,3).flatten(2)   # or we can use .reshape(B, N, -1) rather than .flatten(2)\n",
        "        out = self.out_proj(out)\n",
        "        return out"
      ],
      "metadata": {
        "id": "WAtJzHoJ8CHs"
      },
      "execution_count": 135,
      "outputs": []
    },
    {
      "cell_type": "code",
      "execution_count": 136,
      "metadata": {
        "id": "5c0b783a"
      },
      "outputs": [],
      "source": [
        "class Transformer(nn.Module):\n",
        "    def __init__(self, dim, num_layers, heads, dropout = 0.):\n",
        "\n",
        "        super().__init__()\n",
        "\n",
        "        self.norm = nn.LayerNorm(dim)\n",
        "        self.layers = nn.ModuleList([])\n",
        "\n",
        "        for _ in range(num_layers):\n",
        "            self.layers.append(nn.ModuleList([\n",
        "                MultiHeadAttention(dim, heads = heads, dropout = dropout),\n",
        "                FeedForward(dim, dropout = dropout)]))\n",
        "\n",
        "    def forward(self, x):\n",
        "        for attn, ff in self.layers:\n",
        "            x = attn(x) + x\n",
        "            x = ff(x) + x\n",
        "\n",
        "        return self.norm(x)"
      ]
    },
    {
      "cell_type": "code",
      "source": [
        "class ViT(nn.Module):\n",
        "    def __init__(self, image_size, patch_size, num_classes, dim, num_layers, heads, dropout):\n",
        "        super().__init__()\n",
        "\n",
        "        self.patchify = Patchify(image_size, patch_size, dim)\n",
        "        self.pos_encoding = nn.Parameter(torch.randn(1, self.patchify.num_patches, dim))\n",
        "        self.transformer = Transformer(dim, num_layers, heads, dropout = dropout)\n",
        "        self.classifier = nn.Linear(dim, num_classes)\n",
        "\n",
        "    def forward(self, x):\n",
        "        x = self.patchify(x)         # (batch_size, N, dim)\n",
        "        x = x + self.pos_encoding    # (batch_size, N, dim)\n",
        "        x = self.transformer(x)      # (batch_size, N, dim)\n",
        "        x = x.mean(1)                # (batch_size, dim)\n",
        "        x = self.classifier(x)\n",
        "        return x"
      ],
      "metadata": {
        "id": "uJ-xMyIS8fWK"
      },
      "execution_count": 137,
      "outputs": []
    },
    {
      "cell_type": "markdown",
      "source": [
        "**Data Pre-Processing**"
      ],
      "metadata": {
        "id": "6AA8Lkhl-g7n"
      }
    },
    {
      "cell_type": "markdown",
      "source": [
        "# **Part1 - TRIPLET LOSS**"
      ],
      "metadata": {
        "id": "eYsj-n7wWhyF"
      }
    },
    {
      "cell_type": "code",
      "source": [
        "#https://www.kaggle.com/code/hirotaka0122/triplet-loss-with-pytorch"
      ],
      "metadata": {
        "id": "_3WxYF0uYxiB"
      },
      "execution_count": null,
      "outputs": []
    },
    {
      "cell_type": "code",
      "source": [
        "#https://medium.com/@Skpd/triplet-loss-on-imagenet-dataset-a2b29b8c2952"
      ],
      "metadata": {
        "id": "ML84cGujYzYA"
      },
      "execution_count": null,
      "outputs": []
    },
    {
      "cell_type": "code",
      "source": [
        "class WhereIsWaldoData(ImageFolder):\n",
        "    def __init__(self, root_path, transformer):\n",
        "      super().__init__(root_path, transformer)\n",
        "      self.transformer = transformer\n",
        "      self.is_train = True #set this to false for testset\n",
        "\n",
        "    def __getitem__(self, index: int):\n",
        "      anchor_image_path = self.imgs[index][0]\n",
        "      anchor_lbl = self.imgs[index][1]\n",
        "\n",
        "      if self.is_train:\n",
        "        positive_list = [index for index, sample in enumerate(self.imgs) if sample[1] == anchor_lbl]\n",
        "        positive_item = random.choice(positive_list)\n",
        "        positive_img_path = self.imgs[positive_item][0]\n",
        "\n",
        "        negative_list = [index for index, sample in enumerate(self.imgs) if sample[1] != anchor_lbl]\n",
        "        negative_item = random.choice(negative_list)\n",
        "        negative_img_path = self.imgs[negative_item][0]\n",
        "\n",
        "        if self.transform:\n",
        "            anchor_img = self.transform(self.loader(anchor_image_path))\n",
        "            positive_img = self.transform(self.loader(positive_img_path))\n",
        "            negative_img = self.transform(self.loader(negative_img_path))\n",
        "\n",
        "        return anchor_img, positive_img, negative_img, anchor_lbl\n",
        "\n",
        "      else:\n",
        "          if self.transform:\n",
        "              anchor_img = self.transform(self.loader(anchor_image_path))\n",
        "          return anchor_img, anchor_lbl #nis het nodig lbl door te geven?\n",
        "\n",
        "    def __len__(self) -> int:\n",
        "        return len(self.samples)\n",
        "\n"
      ],
      "metadata": {
        "id": "psR1UBJIJ8eQ"
      },
      "execution_count": 138,
      "outputs": []
    },
    {
      "cell_type": "code",
      "source": [
        "class TripletLoss(nn.Module):\n",
        "    def __init__(self, margin=1.0):\n",
        "        super(TripletLoss, self).__init__()\n",
        "        self.margin = margin\n",
        "\n",
        "    def calc_euclidean(self, x1, x2):\n",
        "        return (x1 - x2).pow(2).sum(1)\n",
        "\n",
        "    def forward(self, anchor: torch.Tensor, positive: torch.Tensor, negative: torch.Tensor) -> torch.Tensor:\n",
        "        distance_positive = self.calc_euclidean(anchor, positive)\n",
        "        distance_negative = self.calc_euclidean(anchor, negative)\n",
        "        losses = torch.relu(distance_positive - distance_negative + self.margin)\n",
        "\n",
        "        return losses.mean()"
      ],
      "metadata": {
        "id": "Ek6cU_vA2Je7"
      },
      "execution_count": 139,
      "outputs": []
    },
    {
      "cell_type": "code",
      "source": [
        "data_path = '/content/gdrive/MyDrive/Hey-Waldo/'"
      ],
      "metadata": {
        "id": "R86BKaz5d58W"
      },
      "execution_count": 153,
      "outputs": []
    },
    {
      "cell_type": "code",
      "source": [
        "transform_train = transforms.Compose([transforms.Resize((128, 128)),\n",
        "                                      transforms.ToTensor()\n",
        "                                      ])"
      ],
      "metadata": {
        "id": "A-kLre83eEGn"
      },
      "execution_count": 154,
      "outputs": []
    },
    {
      "cell_type": "code",
      "source": [
        "# Load datasets\n",
        "dataset_64 = WhereIsWaldoData(f'{data_path}64', transform_train)\n",
        "dataset_128 = WhereIsWaldoData(f'{data_path}128', transform_train)\n",
        "\n",
        "# Combine datasets\n",
        "combined_dataset = torch.utils.data.ConcatDataset([dataset_64, dataset_128])"
      ],
      "metadata": {
        "id": "Zy19RtgwduET"
      },
      "execution_count": 155,
      "outputs": []
    },
    {
      "cell_type": "code",
      "source": [
        "anchor_img, positive_img, negative_img, anchor_label = combined_dataset.__getitem__(1)"
      ],
      "metadata": {
        "id": "e7sBL-uLgO2i"
      },
      "execution_count": 156,
      "outputs": []
    },
    {
      "cell_type": "code",
      "source": [
        "import matplotlib.pyplot as plt\n",
        "\n",
        "# Assuming you have three tensors: image1, image2, image3\n",
        "\n",
        "# Plotting the first image\n",
        "plt.subplot(1, 3, 1)  # 1 row, 3 columns, position 1\n",
        "plt.imshow(np.transpose(anchor_img, (1, 2, 0)))\n",
        "plt.title('Anchor_img')\n",
        "\n",
        "# Plotting the second image\n",
        "plt.subplot(1, 3, 2)  # 1 row, 3 columns, position 2\n",
        "plt.imshow(np.transpose(positive_img, (1, 2, 0)))\n",
        "plt.title('Positive_img')\n",
        "\n",
        "# Plotting the third image\n",
        "plt.subplot(1, 3, 3)  # 1 row, 3 columns, position 3\n",
        "plt.imshow(np.transpose(negative_img, (1, 2, 0)))\n",
        "plt.title('Negative_img')\n",
        "\n",
        "plt.tight_layout()  # To ensure proper spacing\n",
        "plt.show()"
      ],
      "metadata": {
        "id": "JKsHKBysj9j_",
        "outputId": "6bd45b1d-f225-4357-9ac8-c0a902780806",
        "colab": {
          "base_uri": "https://localhost:8080/",
          "height": 240
        }
      },
      "execution_count": 157,
      "outputs": [
        {
          "output_type": "display_data",
          "data": {
            "text/plain": [
              "<Figure size 640x480 with 3 Axes>"
            ],
            "image/png": "[encoded data removed]"
          },
          "metadata": {}
        }
      ]
    },
    {
      "cell_type": "code",
      "source": [
        "from torch.utils.data import DataLoader\n",
        "\n",
        "# Calculate the sizes for train, validation, and test sets\n",
        "total_data = len(combined_dataset)\n",
        "train_val_size = int(0.9 * total_data)\n",
        "test_size = total_data - train_val_size\n",
        "\n",
        "# Splitting combined_dataset into train_val_set and test_set\n",
        "train_val_set, test_set = torch.utils.data.random_split(combined_dataset, [train_val_size, test_size])\n",
        "\n",
        "# Further splitting train_val_set into train_set and validation_set\n",
        "train_size = int(0.9 * len(train_val_set))\n",
        "val_size = len(train_val_set) - train_size\n",
        "train_set, validation_set = torch.utils.data.random_split(train_val_set, [train_size, val_size])\n",
        "\n",
        "#disable train on test_set\n",
        "test_set.is_train = False\n",
        "\n",
        "# Creating DataLoader for each dataset\n",
        "train_loader = DataLoader(train_set, batch_size=128, shuffle=True)\n",
        "val_loader = DataLoader(validation_set, batch_size=128, shuffle=False)\n",
        "test_loader = DataLoader(test_set, batch_size=100, shuffle=False)"
      ],
      "metadata": {
        "id": "6OXkb8Qo2bCS"
      },
      "execution_count": 158,
      "outputs": []
    },
    {
      "cell_type": "code",
      "source": [
        "model = ViT(image_size = 128,\n",
        "            patch_size = 16,\n",
        "            num_classes = 2,\n",
        "            dim = 512,\n",
        "            num_layers = 3,\n",
        "            heads = 8,\n",
        "            dropout = 0.1).to(device)\n",
        "\n",
        "random_input = torch.randn(1,3,128,128).to(device)\n",
        "print(model(random_input).shape)"
      ],
      "metadata": {
        "id": "u0aFS4bV-ePu",
        "outputId": "5d5ed381-b9ff-4c16-d07b-496f6b10d851",
        "colab": {
          "base_uri": "https://localhost:8080/"
        }
      },
      "execution_count": 159,
      "outputs": [
        {
          "output_type": "stream",
          "name": "stdout",
          "text": [
            "torch.Size([1, 2])\n"
          ]
        }
      ]
    },
    {
      "cell_type": "code",
      "source": [
        "epochs = 50\n",
        "optimizer = torch.optim.Adam(model.parameters(), lr=0.0001)\n",
        "scheduler = torch.optim.lr_scheduler.CosineAnnealingLR(optimizer, T_max=epochs)\n",
        "criterion = TripletLoss()"
      ],
      "metadata": {
        "id": "u0bZDQn_-L2z"
      },
      "execution_count": 160,
      "outputs": []
    },
    {
      "cell_type": "code",
      "source": [
        "print_every = 20\n",
        "def train(epoch):\n",
        "    model.train()\n",
        "    train_loss = 0\n",
        "    correct = 0\n",
        "    total = 0\n",
        "    for batch_idx, (anchor_imgs, positive_imgs, negative_imgs, anchor_labels) in enumerate(train_loader):\n",
        "      anchor_imgs = anchor_imgs.to(device)\n",
        "      positive_imgs = positive_imgs.to(device)\n",
        "      negative_imgs = negative_imgs.to(device)\n",
        "      anchor_labels = anchor_labels.to(device)\n",
        "\n",
        "      optimizer.zero_grad()\n",
        "      anchor_out = model(anchor_imgs)\n",
        "      positive_out = model(positive_imgs)\n",
        "      negative_out = model(negative_imgs)\n",
        "\n",
        "      loss = criterion(anchor_out, positive_out, negative_out)\n",
        "      loss.backward()\n",
        "      optimizer.step()\n",
        "\n",
        "      train_loss += loss.item()\n",
        "      _, predicted = anchor_out.max(1)\n",
        "      total += anchor_labels.size(0)\n",
        "      correct += predicted.eq(anchor_labels).sum().item()\n",
        "\n",
        "      epoch_loss = train_loss/(batch_idx+1)\n",
        "      epoch_acc = 100.*correct/total\n",
        "\n",
        "      if batch_idx % print_every == 0:\n",
        "            print('Epoch {}/{}, Iter {}/{}, Train Loss: {:.3f}, Train Accuracy: {:.3f}'.format(epoch, epochs, batch_idx, len(train_loader),\n",
        "                                                                                   epoch_loss, epoch_acc))\n",
        "    return epoch_loss, epoch_acc"
      ],
      "metadata": {
        "id": "PI2sIMXm-REX"
      },
      "execution_count": 161,
      "outputs": []
    },
    {
      "cell_type": "code",
      "source": [
        "def test():\n",
        "    model.eval()\n",
        "    test_loss = 0\n",
        "    correct = 0\n",
        "    total = 0\n",
        "    with torch.no_grad():\n",
        "        for batch_idx, (anchor_imgs, positive_imgs, negative_imgs, anchor_labels) in enumerate(tqdm(test_loader)):\n",
        "            anchor_imgs = anchor_imgs.to(device)\n",
        "            positive_imgs = positive_imgs.to(device)\n",
        "            negative_imgs = negative_imgs.to(device)\n",
        "            anchor_labels = anchor_labels.to(device)\n",
        "\n",
        "            optimizer.zero_grad()\n",
        "            anchor_out = model(anchor_imgs)\n",
        "            positive_out = model(positive_imgs)\n",
        "            negative_out = model(negative_imgs)\n",
        "\n",
        "            loss = criterion(anchor_out, positive_out, negative_out)\n",
        "\n",
        "            test_loss += loss.item()\n",
        "            _, predicted = anchor_out.max(1)\n",
        "            total += anchor_labels.size(0)\n",
        "            correct += predicted.eq(anchor_labels).sum().item()\n",
        "\n",
        "    acc = 100.*correct/total\n",
        "    loss = test_loss/(batch_idx+1)\n",
        "    print('Test Accuracy: {:.3f}, Test Loss: {:.3f}'.format(acc, loss))\n",
        "    return acc"
      ],
      "metadata": {
        "id": "auLI75oaE9aH"
      },
      "execution_count": 162,
      "outputs": []
    },
    {
      "cell_type": "code",
      "source": [
        "best_acc = 0\n",
        "\n",
        "losses = []\n",
        "accuracies = []\n",
        "\n",
        "for epoch in range(epochs):\n",
        "    epoch_loss = train(epoch)\n",
        "    losses.append(epoch_loss)\n",
        "    scheduler.step()\n",
        "    acc = test()\n",
        "    state = {'model': model.state_dict(),\n",
        "             'acc': acc,\n",
        "             'epoch': epoch}\n",
        "\n",
        "    torch.save(state, f'model.pth_{epoch}')\n",
        "    best_acc = acc"
      ],
      "metadata": {
        "id": "Wz0eOAug-UpB",
        "colab": {
          "base_uri": "https://localhost:8080/"
        },
        "outputId": "ee6822ab-6bf7-4e05-ee27-f5a6b4d95905"
      },
      "execution_count": 163,
      "outputs": [
        {
          "output_type": "stream",
          "name": "stdout",
          "text": [
            "Epoch 0/50, Iter 0/43, Train Loss: 0.999, Train Accuracy: 45.312\n",
            "Epoch 0/50, Iter 20/43, Train Loss: 0.987, Train Accuracy: 96.615\n",
            "Epoch 0/50, Iter 40/43, Train Loss: 0.967, Train Accuracy: 97.809\n"
          ]
        },
        {
          "output_type": "stream",
          "name": "stderr",
          "text": [
            "100%|██████████| 7/7 [00:05<00:00,  1.25it/s]\n"
          ]
        },
        {
          "output_type": "stream",
          "name": "stdout",
          "text": [
            "Test Accuracy: 98.661, Test Loss: 0.906\n",
            "Epoch 1/50, Iter 0/43, Train Loss: 0.838, Train Accuracy: 97.656\n",
            "Epoch 1/50, Iter 20/43, Train Loss: 0.724, Train Accuracy: 80.990\n",
            "Epoch 1/50, Iter 40/43, Train Loss: 0.640, Train Accuracy: 89.748\n"
          ]
        },
        {
          "output_type": "stream",
          "name": "stderr",
          "text": [
            "100%|██████████| 7/7 [00:05<00:00,  1.40it/s]\n"
          ]
        },
        {
          "output_type": "stream",
          "name": "stdout",
          "text": [
            "Test Accuracy: 99.107, Test Loss: 0.411\n",
            "Epoch 2/50, Iter 0/43, Train Loss: 0.298, Train Accuracy: 99.219\n",
            "Epoch 2/50, Iter 20/43, Train Loss: 0.301, Train Accuracy: 92.411\n",
            "Epoch 2/50, Iter 40/43, Train Loss: 0.276, Train Accuracy: 95.579\n"
          ]
        },
        {
          "output_type": "stream",
          "name": "stderr",
          "text": [
            "100%|██████████| 7/7 [00:05<00:00,  1.23it/s]\n"
          ]
        },
        {
          "output_type": "stream",
          "name": "stdout",
          "text": [
            "Test Accuracy: 91.667, Test Loss: 0.186\n",
            "Epoch 3/50, Iter 0/43, Train Loss: 0.115, Train Accuracy: 89.844\n",
            "Epoch 3/50, Iter 20/43, Train Loss: 0.168, Train Accuracy: 92.448\n",
            "Epoch 3/50, Iter 40/43, Train Loss: 0.155, Train Accuracy: 95.675\n"
          ]
        },
        {
          "output_type": "stream",
          "name": "stderr",
          "text": [
            "100%|██████████| 7/7 [00:04<00:00,  1.46it/s]\n"
          ]
        },
        {
          "output_type": "stream",
          "name": "stdout",
          "text": [
            "Test Accuracy: 98.661, Test Loss: 0.129\n",
            "Epoch 4/50, Iter 0/43, Train Loss: 0.085, Train Accuracy: 100.000\n",
            "Epoch 4/50, Iter 20/43, Train Loss: 0.106, Train Accuracy: 99.293\n",
            "Epoch 4/50, Iter 40/43, Train Loss: 0.115, Train Accuracy: 99.047\n"
          ]
        },
        {
          "output_type": "stream",
          "name": "stderr",
          "text": [
            "100%|██████████| 7/7 [00:05<00:00,  1.31it/s]\n"
          ]
        },
        {
          "output_type": "stream",
          "name": "stdout",
          "text": [
            "Test Accuracy: 98.661, Test Loss: 0.117\n",
            "Epoch 5/50, Iter 0/43, Train Loss: 0.061, Train Accuracy: 98.438\n",
            "Epoch 5/50, Iter 20/43, Train Loss: 0.103, Train Accuracy: 77.381\n",
            "Epoch 5/50, Iter 40/43, Train Loss: 0.087, Train Accuracy: 88.091\n"
          ]
        },
        {
          "output_type": "stream",
          "name": "stderr",
          "text": [
            "100%|██████████| 7/7 [00:05<00:00,  1.36it/s]\n"
          ]
        },
        {
          "output_type": "stream",
          "name": "stdout",
          "text": [
            "Test Accuracy: 98.958, Test Loss: 0.103\n",
            "Epoch 6/50, Iter 0/43, Train Loss: 0.125, Train Accuracy: 100.000\n",
            "Epoch 6/50, Iter 20/43, Train Loss: 0.077, Train Accuracy: 99.070\n",
            "Epoch 6/50, Iter 40/43, Train Loss: 0.080, Train Accuracy: 99.009\n"
          ]
        },
        {
          "output_type": "stream",
          "name": "stderr",
          "text": [
            "100%|██████████| 7/7 [00:04<00:00,  1.54it/s]\n"
          ]
        },
        {
          "output_type": "stream",
          "name": "stdout",
          "text": [
            "Test Accuracy: 98.958, Test Loss: 0.084\n",
            "Epoch 7/50, Iter 0/43, Train Loss: 0.088, Train Accuracy: 99.219\n",
            "Epoch 7/50, Iter 20/43, Train Loss: 0.068, Train Accuracy: 97.507\n",
            "Epoch 7/50, Iter 40/43, Train Loss: 0.073, Train Accuracy: 97.180\n"
          ]
        },
        {
          "output_type": "stream",
          "name": "stderr",
          "text": [
            "100%|██████████| 7/7 [00:05<00:00,  1.35it/s]\n"
          ]
        },
        {
          "output_type": "stream",
          "name": "stdout",
          "text": [
            "Test Accuracy: 98.661, Test Loss: 0.142\n",
            "Epoch 8/50, Iter 0/43, Train Loss: 0.108, Train Accuracy: 98.438\n",
            "Epoch 8/50, Iter 20/43, Train Loss: 0.061, Train Accuracy: 99.293\n",
            "Epoch 8/50, Iter 40/43, Train Loss: 0.071, Train Accuracy: 99.123\n"
          ]
        },
        {
          "output_type": "stream",
          "name": "stderr",
          "text": [
            "100%|██████████| 7/7 [00:04<00:00,  1.51it/s]\n"
          ]
        },
        {
          "output_type": "stream",
          "name": "stdout",
          "text": [
            "Test Accuracy: 99.256, Test Loss: 0.070\n",
            "Epoch 9/50, Iter 0/43, Train Loss: 0.014, Train Accuracy: 100.000\n",
            "Epoch 9/50, Iter 20/43, Train Loss: 0.089, Train Accuracy: 99.070\n",
            "Epoch 9/50, Iter 40/43, Train Loss: 0.072, Train Accuracy: 99.181\n"
          ]
        },
        {
          "output_type": "stream",
          "name": "stderr",
          "text": [
            "100%|██████████| 7/7 [00:05<00:00,  1.33it/s]\n"
          ]
        },
        {
          "output_type": "stream",
          "name": "stdout",
          "text": [
            "Test Accuracy: 99.256, Test Loss: 0.065\n",
            "Epoch 10/50, Iter 0/43, Train Loss: 0.020, Train Accuracy: 100.000\n",
            "Epoch 10/50, Iter 20/43, Train Loss: 0.071, Train Accuracy: 99.293\n",
            "Epoch 10/50, Iter 40/43, Train Loss: 0.069, Train Accuracy: 99.238\n"
          ]
        },
        {
          "output_type": "stream",
          "name": "stderr",
          "text": [
            "100%|██████████| 7/7 [00:04<00:00,  1.53it/s]\n"
          ]
        },
        {
          "output_type": "stream",
          "name": "stdout",
          "text": [
            "Test Accuracy: 99.256, Test Loss: 0.076\n",
            "Epoch 11/50, Iter 0/43, Train Loss: 0.045, Train Accuracy: 100.000\n",
            "Epoch 11/50, Iter 20/43, Train Loss: 0.050, Train Accuracy: 99.442\n",
            "Epoch 11/50, Iter 40/43, Train Loss: 0.053, Train Accuracy: 99.143\n"
          ]
        },
        {
          "output_type": "stream",
          "name": "stderr",
          "text": [
            "100%|██████████| 7/7 [00:05<00:00,  1.32it/s]\n"
          ]
        },
        {
          "output_type": "stream",
          "name": "stdout",
          "text": [
            "Test Accuracy: 98.661, Test Loss: 0.082\n",
            "Epoch 12/50, Iter 0/43, Train Loss: 0.101, Train Accuracy: 99.219\n",
            "Epoch 12/50, Iter 20/43, Train Loss: 0.051, Train Accuracy: 98.958\n",
            "Epoch 12/50, Iter 40/43, Train Loss: 0.047, Train Accuracy: 99.085\n"
          ]
        },
        {
          "output_type": "stream",
          "name": "stderr",
          "text": [
            "100%|██████████| 7/7 [00:04<00:00,  1.53it/s]\n"
          ]
        },
        {
          "output_type": "stream",
          "name": "stdout",
          "text": [
            "Test Accuracy: 99.107, Test Loss: 0.108\n",
            "Epoch 13/50, Iter 0/43, Train Loss: 0.004, Train Accuracy: 99.219\n",
            "Epoch 13/50, Iter 20/43, Train Loss: 0.059, Train Accuracy: 99.256\n",
            "Epoch 13/50, Iter 40/43, Train Loss: 0.059, Train Accuracy: 99.162\n"
          ]
        },
        {
          "output_type": "stream",
          "name": "stderr",
          "text": [
            "100%|██████████| 7/7 [00:05<00:00,  1.28it/s]\n"
          ]
        },
        {
          "output_type": "stream",
          "name": "stdout",
          "text": [
            "Test Accuracy: 99.107, Test Loss: 0.082\n",
            "Epoch 14/50, Iter 0/43, Train Loss: 0.068, Train Accuracy: 99.219\n",
            "Epoch 14/50, Iter 20/43, Train Loss: 0.068, Train Accuracy: 99.144\n",
            "Epoch 14/50, Iter 40/43, Train Loss: 0.068, Train Accuracy: 99.085\n"
          ]
        },
        {
          "output_type": "stream",
          "name": "stderr",
          "text": [
            "100%|██████████| 7/7 [00:04<00:00,  1.51it/s]\n"
          ]
        },
        {
          "output_type": "stream",
          "name": "stdout",
          "text": [
            "Test Accuracy: 98.810, Test Loss: 0.058\n",
            "Epoch 15/50, Iter 0/43, Train Loss: 0.017, Train Accuracy: 99.219\n",
            "Epoch 15/50, Iter 20/43, Train Loss: 0.053, Train Accuracy: 99.144\n",
            "Epoch 15/50, Iter 40/43, Train Loss: 0.052, Train Accuracy: 99.009\n"
          ]
        },
        {
          "output_type": "stream",
          "name": "stderr",
          "text": [
            "100%|██████████| 7/7 [00:05<00:00,  1.31it/s]\n"
          ]
        },
        {
          "output_type": "stream",
          "name": "stdout",
          "text": [
            "Test Accuracy: 98.661, Test Loss: 0.092\n",
            "Epoch 16/50, Iter 0/43, Train Loss: 0.012, Train Accuracy: 99.219\n",
            "Epoch 16/50, Iter 20/43, Train Loss: 0.041, Train Accuracy: 99.293\n",
            "Epoch 16/50, Iter 40/43, Train Loss: 0.044, Train Accuracy: 99.276\n"
          ]
        },
        {
          "output_type": "stream",
          "name": "stderr",
          "text": [
            "100%|██████████| 7/7 [00:04<00:00,  1.52it/s]\n"
          ]
        },
        {
          "output_type": "stream",
          "name": "stdout",
          "text": [
            "Test Accuracy: 99.405, Test Loss: 0.067\n",
            "Epoch 17/50, Iter 0/43, Train Loss: 0.088, Train Accuracy: 100.000\n",
            "Epoch 17/50, Iter 20/43, Train Loss: 0.039, Train Accuracy: 99.405\n",
            "Epoch 17/50, Iter 40/43, Train Loss: 0.053, Train Accuracy: 98.761\n"
          ]
        },
        {
          "output_type": "stream",
          "name": "stderr",
          "text": [
            "100%|██████████| 7/7 [00:05<00:00,  1.35it/s]\n"
          ]
        },
        {
          "output_type": "stream",
          "name": "stdout",
          "text": [
            "Test Accuracy: 99.107, Test Loss: 0.062\n",
            "Epoch 18/50, Iter 0/43, Train Loss: 0.082, Train Accuracy: 98.438\n",
            "Epoch 18/50, Iter 20/43, Train Loss: 0.052, Train Accuracy: 99.293\n",
            "Epoch 18/50, Iter 40/43, Train Loss: 0.050, Train Accuracy: 99.162\n"
          ]
        },
        {
          "output_type": "stream",
          "name": "stderr",
          "text": [
            "100%|██████████| 7/7 [00:04<00:00,  1.52it/s]\n"
          ]
        },
        {
          "output_type": "stream",
          "name": "stdout",
          "text": [
            "Test Accuracy: 99.256, Test Loss: 0.063\n",
            "Epoch 19/50, Iter 0/43, Train Loss: 0.065, Train Accuracy: 99.219\n",
            "Epoch 19/50, Iter 20/43, Train Loss: 0.048, Train Accuracy: 99.144\n",
            "Epoch 19/50, Iter 40/43, Train Loss: 0.046, Train Accuracy: 99.143\n"
          ]
        },
        {
          "output_type": "stream",
          "name": "stderr",
          "text": [
            "100%|██████████| 7/7 [00:05<00:00,  1.34it/s]\n"
          ]
        },
        {
          "output_type": "stream",
          "name": "stdout",
          "text": [
            "Test Accuracy: 98.661, Test Loss: 0.069\n",
            "Epoch 20/50, Iter 0/43, Train Loss: 0.005, Train Accuracy: 100.000\n",
            "Epoch 20/50, Iter 20/43, Train Loss: 0.051, Train Accuracy: 99.256\n",
            "Epoch 20/50, Iter 40/43, Train Loss: 0.050, Train Accuracy: 99.219\n"
          ]
        },
        {
          "output_type": "stream",
          "name": "stderr",
          "text": [
            "100%|██████████| 7/7 [00:04<00:00,  1.53it/s]\n"
          ]
        },
        {
          "output_type": "stream",
          "name": "stdout",
          "text": [
            "Test Accuracy: 98.661, Test Loss: 0.045\n",
            "Epoch 21/50, Iter 0/43, Train Loss: 0.078, Train Accuracy: 97.656\n",
            "Epoch 21/50, Iter 20/43, Train Loss: 0.052, Train Accuracy: 99.107\n",
            "Epoch 21/50, Iter 40/43, Train Loss: 0.048, Train Accuracy: 99.162\n"
          ]
        },
        {
          "output_type": "stream",
          "name": "stderr",
          "text": [
            "100%|██████████| 7/7 [00:05<00:00,  1.38it/s]\n"
          ]
        },
        {
          "output_type": "stream",
          "name": "stdout",
          "text": [
            "Test Accuracy: 98.810, Test Loss: 0.059\n",
            "Epoch 22/50, Iter 0/43, Train Loss: 0.018, Train Accuracy: 100.000\n",
            "Epoch 22/50, Iter 20/43, Train Loss: 0.044, Train Accuracy: 99.144\n",
            "Epoch 22/50, Iter 40/43, Train Loss: 0.050, Train Accuracy: 99.047\n"
          ]
        },
        {
          "output_type": "stream",
          "name": "stderr",
          "text": [
            "100%|██████████| 7/7 [00:04<00:00,  1.55it/s]\n"
          ]
        },
        {
          "output_type": "stream",
          "name": "stdout",
          "text": [
            "Test Accuracy: 98.661, Test Loss: 0.067\n",
            "Epoch 23/50, Iter 0/43, Train Loss: 0.007, Train Accuracy: 100.000\n",
            "Epoch 23/50, Iter 20/43, Train Loss: 0.038, Train Accuracy: 99.182\n",
            "Epoch 23/50, Iter 40/43, Train Loss: 0.041, Train Accuracy: 99.085\n"
          ]
        },
        {
          "output_type": "stream",
          "name": "stderr",
          "text": [
            "100%|██████████| 7/7 [00:04<00:00,  1.40it/s]\n"
          ]
        },
        {
          "output_type": "stream",
          "name": "stdout",
          "text": [
            "Test Accuracy: 98.661, Test Loss: 0.071\n",
            "Epoch 24/50, Iter 0/43, Train Loss: 0.004, Train Accuracy: 100.000\n",
            "Epoch 24/50, Iter 20/43, Train Loss: 0.040, Train Accuracy: 99.516\n",
            "Epoch 24/50, Iter 40/43, Train Loss: 0.042, Train Accuracy: 99.143\n"
          ]
        },
        {
          "output_type": "stream",
          "name": "stderr",
          "text": [
            "100%|██████████| 7/7 [00:04<00:00,  1.50it/s]\n"
          ]
        },
        {
          "output_type": "stream",
          "name": "stdout",
          "text": [
            "Test Accuracy: 98.810, Test Loss: 0.081\n",
            "Epoch 25/50, Iter 0/43, Train Loss: 0.041, Train Accuracy: 97.656\n",
            "Epoch 25/50, Iter 20/43, Train Loss: 0.039, Train Accuracy: 99.256\n",
            "Epoch 25/50, Iter 40/43, Train Loss: 0.040, Train Accuracy: 99.085\n"
          ]
        },
        {
          "output_type": "stream",
          "name": "stderr",
          "text": [
            "100%|██████████| 7/7 [00:04<00:00,  1.45it/s]\n"
          ]
        },
        {
          "output_type": "stream",
          "name": "stdout",
          "text": [
            "Test Accuracy: 99.256, Test Loss: 0.066\n",
            "Epoch 26/50, Iter 0/43, Train Loss: 0.024, Train Accuracy: 100.000\n",
            "Epoch 26/50, Iter 20/43, Train Loss: 0.045, Train Accuracy: 99.256\n",
            "Epoch 26/50, Iter 40/43, Train Loss: 0.045, Train Accuracy: 99.143\n"
          ]
        },
        {
          "output_type": "stream",
          "name": "stderr",
          "text": [
            "100%|██████████| 7/7 [00:04<00:00,  1.49it/s]\n"
          ]
        },
        {
          "output_type": "stream",
          "name": "stdout",
          "text": [
            "Test Accuracy: 98.958, Test Loss: 0.047\n",
            "Epoch 27/50, Iter 0/43, Train Loss: 0.006, Train Accuracy: 99.219\n",
            "Epoch 27/50, Iter 20/43, Train Loss: 0.040, Train Accuracy: 98.958\n",
            "Epoch 27/50, Iter 40/43, Train Loss: 0.035, Train Accuracy: 99.181\n"
          ]
        },
        {
          "output_type": "stream",
          "name": "stderr",
          "text": [
            "100%|██████████| 7/7 [00:04<00:00,  1.46it/s]\n"
          ]
        },
        {
          "output_type": "stream",
          "name": "stdout",
          "text": [
            "Test Accuracy: 99.107, Test Loss: 0.032\n",
            "Epoch 28/50, Iter 0/43, Train Loss: 0.036, Train Accuracy: 98.438\n",
            "Epoch 28/50, Iter 20/43, Train Loss: 0.049, Train Accuracy: 99.070\n",
            "Epoch 28/50, Iter 40/43, Train Loss: 0.043, Train Accuracy: 99.085\n"
          ]
        },
        {
          "output_type": "stream",
          "name": "stderr",
          "text": [
            "100%|██████████| 7/7 [00:05<00:00,  1.36it/s]\n"
          ]
        },
        {
          "output_type": "stream",
          "name": "stdout",
          "text": [
            "Test Accuracy: 99.107, Test Loss: 0.037\n",
            "Epoch 29/50, Iter 0/43, Train Loss: 0.006, Train Accuracy: 100.000\n",
            "Epoch 29/50, Iter 20/43, Train Loss: 0.036, Train Accuracy: 99.628\n",
            "Epoch 29/50, Iter 40/43, Train Loss: 0.039, Train Accuracy: 99.257\n"
          ]
        },
        {
          "output_type": "stream",
          "name": "stderr",
          "text": [
            "100%|██████████| 7/7 [00:04<00:00,  1.51it/s]\n"
          ]
        },
        {
          "output_type": "stream",
          "name": "stdout",
          "text": [
            "Test Accuracy: 98.661, Test Loss: 0.064\n",
            "Epoch 30/50, Iter 0/43, Train Loss: 0.006, Train Accuracy: 100.000\n",
            "Epoch 30/50, Iter 20/43, Train Loss: 0.039, Train Accuracy: 98.921\n",
            "Epoch 30/50, Iter 40/43, Train Loss: 0.035, Train Accuracy: 99.066\n"
          ]
        },
        {
          "output_type": "stream",
          "name": "stderr",
          "text": [
            "100%|██████████| 7/7 [00:05<00:00,  1.38it/s]\n"
          ]
        },
        {
          "output_type": "stream",
          "name": "stdout",
          "text": [
            "Test Accuracy: 98.661, Test Loss: 0.031\n",
            "Epoch 31/50, Iter 0/43, Train Loss: 0.035, Train Accuracy: 99.219\n",
            "Epoch 31/50, Iter 20/43, Train Loss: 0.028, Train Accuracy: 99.033\n",
            "Epoch 31/50, Iter 40/43, Train Loss: 0.030, Train Accuracy: 99.104\n"
          ]
        },
        {
          "output_type": "stream",
          "name": "stderr",
          "text": [
            "100%|██████████| 7/7 [00:04<00:00,  1.47it/s]\n"
          ]
        },
        {
          "output_type": "stream",
          "name": "stdout",
          "text": [
            "Test Accuracy: 98.810, Test Loss: 0.043\n",
            "Epoch 32/50, Iter 0/43, Train Loss: 0.076, Train Accuracy: 99.219\n",
            "Epoch 32/50, Iter 20/43, Train Loss: 0.029, Train Accuracy: 99.107\n",
            "Epoch 32/50, Iter 40/43, Train Loss: 0.030, Train Accuracy: 98.990\n"
          ]
        },
        {
          "output_type": "stream",
          "name": "stderr",
          "text": [
            "100%|██████████| 7/7 [00:05<00:00,  1.33it/s]\n"
          ]
        },
        {
          "output_type": "stream",
          "name": "stdout",
          "text": [
            "Test Accuracy: 98.661, Test Loss: 0.080\n",
            "Epoch 33/50, Iter 0/43, Train Loss: 0.112, Train Accuracy: 96.875\n",
            "Epoch 33/50, Iter 20/43, Train Loss: 0.025, Train Accuracy: 99.219\n",
            "Epoch 33/50, Iter 40/43, Train Loss: 0.031, Train Accuracy: 99.028\n"
          ]
        },
        {
          "output_type": "stream",
          "name": "stderr",
          "text": [
            "100%|██████████| 7/7 [00:04<00:00,  1.52it/s]\n"
          ]
        },
        {
          "output_type": "stream",
          "name": "stdout",
          "text": [
            "Test Accuracy: 98.661, Test Loss: 0.035\n",
            "Epoch 34/50, Iter 0/43, Train Loss: 0.015, Train Accuracy: 98.438\n",
            "Epoch 34/50, Iter 20/43, Train Loss: 0.039, Train Accuracy: 98.921\n",
            "Epoch 34/50, Iter 40/43, Train Loss: 0.033, Train Accuracy: 99.104\n"
          ]
        },
        {
          "output_type": "stream",
          "name": "stderr",
          "text": [
            "100%|██████████| 7/7 [00:05<00:00,  1.35it/s]\n"
          ]
        },
        {
          "output_type": "stream",
          "name": "stdout",
          "text": [
            "Test Accuracy: 99.256, Test Loss: 0.038\n",
            "Epoch 35/50, Iter 0/43, Train Loss: 0.005, Train Accuracy: 100.000\n",
            "Epoch 35/50, Iter 20/43, Train Loss: 0.039, Train Accuracy: 99.182\n",
            "Epoch 35/50, Iter 40/43, Train Loss: 0.034, Train Accuracy: 99.028\n"
          ]
        },
        {
          "output_type": "stream",
          "name": "stderr",
          "text": [
            "100%|██████████| 7/7 [00:04<00:00,  1.51it/s]\n"
          ]
        },
        {
          "output_type": "stream",
          "name": "stdout",
          "text": [
            "Test Accuracy: 98.661, Test Loss: 0.048\n",
            "Epoch 36/50, Iter 0/43, Train Loss: 0.043, Train Accuracy: 97.656\n",
            "Epoch 36/50, Iter 20/43, Train Loss: 0.031, Train Accuracy: 98.884\n",
            "Epoch 36/50, Iter 40/43, Train Loss: 0.030, Train Accuracy: 99.047\n"
          ]
        },
        {
          "output_type": "stream",
          "name": "stderr",
          "text": [
            "100%|██████████| 7/7 [00:05<00:00,  1.29it/s]\n"
          ]
        },
        {
          "output_type": "stream",
          "name": "stdout",
          "text": [
            "Test Accuracy: 98.661, Test Loss: 0.033\n",
            "Epoch 37/50, Iter 0/43, Train Loss: 0.009, Train Accuracy: 100.000\n",
            "Epoch 37/50, Iter 20/43, Train Loss: 0.036, Train Accuracy: 98.958\n",
            "Epoch 37/50, Iter 40/43, Train Loss: 0.037, Train Accuracy: 99.028\n"
          ]
        },
        {
          "output_type": "stream",
          "name": "stderr",
          "text": [
            "100%|██████████| 7/7 [00:04<00:00,  1.53it/s]\n"
          ]
        },
        {
          "output_type": "stream",
          "name": "stdout",
          "text": [
            "Test Accuracy: 98.661, Test Loss: 0.048\n",
            "Epoch 38/50, Iter 0/43, Train Loss: 0.014, Train Accuracy: 100.000\n",
            "Epoch 38/50, Iter 20/43, Train Loss: 0.035, Train Accuracy: 99.070\n",
            "Epoch 38/50, Iter 40/43, Train Loss: 0.034, Train Accuracy: 99.009\n"
          ]
        },
        {
          "output_type": "stream",
          "name": "stderr",
          "text": [
            "100%|██████████| 7/7 [00:05<00:00,  1.30it/s]\n"
          ]
        },
        {
          "output_type": "stream",
          "name": "stdout",
          "text": [
            "Test Accuracy: 98.661, Test Loss: 0.054\n",
            "Epoch 39/50, Iter 0/43, Train Loss: 0.073, Train Accuracy: 98.438\n",
            "Epoch 39/50, Iter 20/43, Train Loss: 0.029, Train Accuracy: 98.921\n",
            "Epoch 39/50, Iter 40/43, Train Loss: 0.028, Train Accuracy: 99.009\n"
          ]
        },
        {
          "output_type": "stream",
          "name": "stderr",
          "text": [
            "100%|██████████| 7/7 [00:04<00:00,  1.42it/s]\n"
          ]
        },
        {
          "output_type": "stream",
          "name": "stdout",
          "text": [
            "Test Accuracy: 98.661, Test Loss: 0.063\n",
            "Epoch 40/50, Iter 0/43, Train Loss: 0.000, Train Accuracy: 97.656\n",
            "Epoch 40/50, Iter 20/43, Train Loss: 0.024, Train Accuracy: 98.884\n",
            "Epoch 40/50, Iter 40/43, Train Loss: 0.026, Train Accuracy: 99.009\n"
          ]
        },
        {
          "output_type": "stream",
          "name": "stderr",
          "text": [
            "100%|██████████| 7/7 [00:05<00:00,  1.37it/s]\n"
          ]
        },
        {
          "output_type": "stream",
          "name": "stdout",
          "text": [
            "Test Accuracy: 98.661, Test Loss: 0.040\n",
            "Epoch 41/50, Iter 0/43, Train Loss: 0.025, Train Accuracy: 99.219\n",
            "Epoch 41/50, Iter 20/43, Train Loss: 0.039, Train Accuracy: 98.996\n",
            "Epoch 41/50, Iter 40/43, Train Loss: 0.036, Train Accuracy: 99.009\n"
          ]
        },
        {
          "output_type": "stream",
          "name": "stderr",
          "text": [
            "100%|██████████| 7/7 [00:04<00:00,  1.44it/s]\n"
          ]
        },
        {
          "output_type": "stream",
          "name": "stdout",
          "text": [
            "Test Accuracy: 98.661, Test Loss: 0.041\n",
            "Epoch 42/50, Iter 0/43, Train Loss: 0.043, Train Accuracy: 98.438\n",
            "Epoch 42/50, Iter 20/43, Train Loss: 0.034, Train Accuracy: 99.070\n",
            "Epoch 42/50, Iter 40/43, Train Loss: 0.033, Train Accuracy: 98.990\n"
          ]
        },
        {
          "output_type": "stream",
          "name": "stderr",
          "text": [
            "100%|██████████| 7/7 [00:04<00:00,  1.46it/s]\n"
          ]
        },
        {
          "output_type": "stream",
          "name": "stdout",
          "text": [
            "Test Accuracy: 98.661, Test Loss: 0.066\n",
            "Epoch 43/50, Iter 0/43, Train Loss: 0.003, Train Accuracy: 100.000\n",
            "Epoch 43/50, Iter 20/43, Train Loss: 0.021, Train Accuracy: 99.107\n",
            "Epoch 43/50, Iter 40/43, Train Loss: 0.025, Train Accuracy: 98.990\n"
          ]
        },
        {
          "output_type": "stream",
          "name": "stderr",
          "text": [
            "100%|██████████| 7/7 [00:05<00:00,  1.38it/s]\n"
          ]
        },
        {
          "output_type": "stream",
          "name": "stdout",
          "text": [
            "Test Accuracy: 98.661, Test Loss: 0.039\n",
            "Epoch 44/50, Iter 0/43, Train Loss: 0.038, Train Accuracy: 99.219\n",
            "Epoch 44/50, Iter 20/43, Train Loss: 0.032, Train Accuracy: 99.107\n",
            "Epoch 44/50, Iter 40/43, Train Loss: 0.029, Train Accuracy: 99.009\n"
          ]
        },
        {
          "output_type": "stream",
          "name": "stderr",
          "text": [
            "100%|██████████| 7/7 [00:04<00:00,  1.53it/s]\n"
          ]
        },
        {
          "output_type": "stream",
          "name": "stdout",
          "text": [
            "Test Accuracy: 98.661, Test Loss: 0.091\n",
            "Epoch 45/50, Iter 0/43, Train Loss: 0.006, Train Accuracy: 99.219\n",
            "Epoch 45/50, Iter 20/43, Train Loss: 0.023, Train Accuracy: 98.810\n",
            "Epoch 45/50, Iter 40/43, Train Loss: 0.024, Train Accuracy: 99.028\n"
          ]
        },
        {
          "output_type": "stream",
          "name": "stderr",
          "text": [
            "100%|██████████| 7/7 [00:05<00:00,  1.35it/s]\n"
          ]
        },
        {
          "output_type": "stream",
          "name": "stdout",
          "text": [
            "Test Accuracy: 98.661, Test Loss: 0.050\n",
            "Epoch 46/50, Iter 0/43, Train Loss: 0.092, Train Accuracy: 96.094\n",
            "Epoch 46/50, Iter 20/43, Train Loss: 0.039, Train Accuracy: 98.735\n",
            "Epoch 46/50, Iter 40/43, Train Loss: 0.029, Train Accuracy: 98.971\n"
          ]
        },
        {
          "output_type": "stream",
          "name": "stderr",
          "text": [
            "100%|██████████| 7/7 [00:04<00:00,  1.53it/s]\n"
          ]
        },
        {
          "output_type": "stream",
          "name": "stdout",
          "text": [
            "Test Accuracy: 98.661, Test Loss: 0.024\n",
            "Epoch 47/50, Iter 0/43, Train Loss: 0.008, Train Accuracy: 99.219\n",
            "Epoch 47/50, Iter 20/43, Train Loss: 0.028, Train Accuracy: 98.884\n",
            "Epoch 47/50, Iter 40/43, Train Loss: 0.028, Train Accuracy: 98.990\n"
          ]
        },
        {
          "output_type": "stream",
          "name": "stderr",
          "text": [
            "100%|██████████| 7/7 [00:05<00:00,  1.34it/s]\n"
          ]
        },
        {
          "output_type": "stream",
          "name": "stdout",
          "text": [
            "Test Accuracy: 98.661, Test Loss: 0.035\n",
            "Epoch 48/50, Iter 0/43, Train Loss: 0.008, Train Accuracy: 100.000\n",
            "Epoch 48/50, Iter 20/43, Train Loss: 0.032, Train Accuracy: 98.698\n",
            "Epoch 48/50, Iter 40/43, Train Loss: 0.027, Train Accuracy: 98.990\n"
          ]
        },
        {
          "output_type": "stream",
          "name": "stderr",
          "text": [
            "100%|██████████| 7/7 [00:04<00:00,  1.50it/s]\n"
          ]
        },
        {
          "output_type": "stream",
          "name": "stdout",
          "text": [
            "Test Accuracy: 98.661, Test Loss: 0.044\n",
            "Epoch 49/50, Iter 0/43, Train Loss: 0.060, Train Accuracy: 98.438\n",
            "Epoch 49/50, Iter 20/43, Train Loss: 0.029, Train Accuracy: 98.921\n",
            "Epoch 49/50, Iter 40/43, Train Loss: 0.030, Train Accuracy: 98.990\n"
          ]
        },
        {
          "output_type": "stream",
          "name": "stderr",
          "text": [
            "100%|██████████| 7/7 [00:05<00:00,  1.29it/s]"
          ]
        },
        {
          "output_type": "stream",
          "name": "stdout",
          "text": [
            "Test Accuracy: 98.661, Test Loss: 0.048\n"
          ]
        },
        {
          "output_type": "stream",
          "name": "stderr",
          "text": [
            "\n"
          ]
        }
      ]
    },
    {
      "cell_type": "code",
      "source": [
        "loaded_model = ViT(image_size = 64,\n",
        "            patch_size = 8,\n",
        "            num_classes = 2,\n",
        "            dim = 512,\n",
        "            num_layers = 3,\n",
        "            heads = 8,\n",
        "            dropout = 0.1).to(device)\n",
        "checkpoint = torch.load('/content/model.pth_49')\n",
        "loaded_model.load_state_dict(checkpoint['model'])\n",
        "loaded_model.eval()"
      ],
      "metadata": {
        "colab": {
          "base_uri": "https://localhost:8080/"
        },
        "id": "pppAAC1c4fWq",
        "outputId": "e57b1c65-150c-4583-d099-c9e8eab1a12d"
      },
      "execution_count": 119,
      "outputs": [
        {
          "output_type": "execute_result",
          "data": {
            "text/plain": [
              "ViT(\n",
              "  (patchify): Patchify(\n",
              "    (proj): Conv2d(3, 512, kernel_size=(8, 8), stride=(8, 8))\n",
              "  )\n",
              "  (transformer): Transformer(\n",
              "    (norm): LayerNorm((512,), eps=1e-05, elementwise_affine=True)\n",
              "    (layers): ModuleList(\n",
              "      (0-2): 3 x ModuleList(\n",
              "        (0): MultiHeadAttention(\n",
              "          (query): Linear(in_features=512, out_features=512, bias=True)\n",
              "          (keys): Linear(in_features=512, out_features=512, bias=True)\n",
              "          (values): Linear(in_features=512, out_features=512, bias=True)\n",
              "          (norm): LayerNorm((512,), eps=1e-05, elementwise_affine=True)\n",
              "          (out_proj): Linear(in_features=512, out_features=512, bias=True)\n",
              "          (dropout): Dropout(p=0.1, inplace=False)\n",
              "        )\n",
              "        (1): FeedForward(\n",
              "          (net): Sequential(\n",
              "            (0): LayerNorm((512,), eps=1e-05, elementwise_affine=True)\n",
              "            (1): Linear(in_features=512, out_features=2048, bias=True)\n",
              "            (2): ReLU()\n",
              "            (3): Dropout(p=0.1, inplace=False)\n",
              "            (4): Linear(in_features=2048, out_features=512, bias=True)\n",
              "            (5): Dropout(p=0.1, inplace=False)\n",
              "          )\n",
              "        )\n",
              "      )\n",
              "    )\n",
              "  )\n",
              "  (classifier): Linear(in_features=512, out_features=2, bias=True)\n",
              ")"
            ]
          },
          "metadata": {},
          "execution_count": 119
        }
      ]
    },
    {
      "cell_type": "code",
      "source": [
        "train_results = []\n",
        "labels = []\n",
        "\n",
        "model.eval()\n",
        "with torch.no_grad():\n",
        "    for img, _, _, label in tqdm(test_loader):\n",
        "        train_results.append(model(img.to(device)).cpu().numpy())\n",
        "        labels.append(label)\n",
        "\n",
        "train_results = np.concatenate(train_results)\n",
        "labels = np.concatenate(labels)\n",
        "train_results.shape"
      ],
      "metadata": {
        "id": "46h-eszZ_xeP",
        "colab": {
          "base_uri": "https://localhost:8080/"
        },
        "outputId": "907b3174-74c2-49a7-e400-d3178f673b88"
      },
      "execution_count": 167,
      "outputs": [
        {
          "output_type": "stream",
          "name": "stderr",
          "text": [
            "100%|██████████| 7/7 [00:04<00:00,  1.43it/s]\n"
          ]
        },
        {
          "output_type": "execute_result",
          "data": {
            "text/plain": [
              "(672, 2)"
            ]
          },
          "metadata": {},
          "execution_count": 167
        }
      ]
    },
    {
      "cell_type": "code",
      "source": [
        "plt.figure(figsize=(15, 10), facecolor=\"azure\")\n",
        "for label in np.unique(labels):\n",
        "    tmp = train_results[labels==label]\n",
        "    plt.scatter(tmp[:, 0], tmp[:, 1], label=label)\n",
        "\n",
        "plt.legend()\n",
        "plt.show()"
      ],
      "metadata": {
        "id": "il0FkPPtAFsh",
        "outputId": "4a9cd37d-3bec-45bb-9c93-c14725ce2af0",
        "colab": {
          "base_uri": "https://localhost:8080/",
          "height": 791
        }
      },
      "execution_count": 168,
      "outputs": [
        {
          "output_type": "display_data",
          "data": {
            "text/plain": [
              "<Figure size 1500x1000 with 1 Axes>"
            ],
            "image/png": "[encoded data removed]"
          },
          "metadata": {}
        }
      ]
    }
  ]
}